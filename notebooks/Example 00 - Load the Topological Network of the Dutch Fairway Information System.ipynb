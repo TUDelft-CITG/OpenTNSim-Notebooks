{
 "cells": [
  {
   "cell_type": "code",
   "execution_count": 1,
   "metadata": {},
   "outputs": [],
   "source": [
    "# all internal libraries\n",
    "import pathlib\n",
    "import time\n",
    "import datetime\n",
    "import io\n",
    "import urllib\n",
    "import tempfile\n",
    "import functools\n",
    "import logging\n",
    "\n",
    "# dependencies\n",
    "import requests\n",
    "import shapely.geometry\n",
    "import shapely.wkt\n",
    "import networkx as nx\n",
    "import simpy\n",
    "import numpy as np\n",
    "import pandas as pd\n",
    "import pyproj\n",
    "\n",
    "# our software\n",
    "import opentnsim.core\n",
    "\n",
    "%matplotlib inline\n",
    "\n",
    "logging.basicConfig(level=logging.INFO)\n",
    "logger = logging.getLogger()\n"
   ]
  },
  {
   "cell_type": "code",
   "execution_count": 2,
   "metadata": {},
   "outputs": [],
   "source": [
    "# link to the latets version of the network\n",
    "url = 'https://zenodo.org/record/3981105/files/network_digital_twin_v0.1.yaml'\n",
    "\n",
    "# define the coorinate system\n",
    "geod = pyproj.Geod(ellps=\"WGS84\")\n"
   ]
  },
  {
   "cell_type": "markdown",
   "metadata": {},
   "source": [
    "# Load the network\n",
    "The Topological Network of the Dutch Fairway Informtion system is freely [available](http://dx.doi.org/10.5281/zenodo.3981105). The network is created from the data from the [vaarweginformatie](https://vaarweginformatie.nl) dataset from Rijkswaterstaat. The data is transformed into a topological network, a graph, that can be used for route planning, and economic and logistic modelling. Here we will load the data from the internet. "
   ]
  },
  {
   "cell_type": "code",
   "execution_count": 3,
   "metadata": {},
   "outputs": [],
   "source": [
    "\n",
    "# The network version 0.1 contains the lat/lon distance in a length property. \n",
    "# But we need the \"great circle\" or projected distance. \n",
    "# Let's define a function to recompute it.\n",
    "def edge_length(edge):\n",
    "    \"\"\"compute the great circle length of an edge\"\"\"\n",
    "    # get the geometry\n",
    "    geom = edge['geometry']\n",
    "    # get lon, lat\n",
    "    lats, lons = np.array(geom).T\n",
    "    distance = geod.line_length(lons, lats)\n",
    "    return distance\n",
    " \n",
    "# now create the function can load the network\n",
    "\n",
    "# store the result so it will immediately give a result\n",
    "@functools.lru_cache\n",
    "def load_fis_network(url):\n",
    "    \"\"\"load the topological fairway information system network\"\"\"\n",
    "\n",
    "    # get the data from the url\n",
    "    resp = requests.get(url)\n",
    "    # convert to file object\n",
    "    stream = io.StringIO(resp.text)\n",
    "    \n",
    "    # This will take a minute or two\n",
    "    # Here we convert the network to a networkx object\n",
    "    G = nx.read_yaml(stream)\n",
    "\n",
    "    # some brief info\n",
    "    n_bytes = len(resp.content)\n",
    "    msg = '''Loaded network from {url} file size {mb:.2f}MB. Network has {n_nodes} nodes and {n_edges} edges.'''\n",
    "    summary = msg.format(url=url, mb=n_bytes / 1000**2, n_edges=len(G.edges), n_nodes=len(G.nodes))\n",
    "    logger.info(summary)\n",
    "\n",
    "    # The topological network contains information about the original geometry. \n",
    "    # Let's convert those into python shapely objects for easier use later\n",
    "    for n in G.nodes:\n",
    "        G.nodes[n]['geometry'] = shapely.geometry.Point(G.nodes[n]['X'], G.nodes[n]['Y'])\n",
    "    for e in G.edges:\n",
    "        edge = G.edges[e]\n",
    "        edge['geometry'] = shapely.wkt.loads(edge['Wkt'])\n",
    "        edge['length'] = edge_length(edge)    \n",
    "    \n",
    "    return G"
   ]
  },
  {
   "cell_type": "code",
   "execution_count": 4,
   "metadata": {
    "scrolled": true
   },
   "outputs": [
    {
     "name": "stderr",
     "output_type": "stream",
     "text": [
      "INFO:root:Loaded network from https://zenodo.org/record/3981105/files/network_digital_twin_v0.1.yaml file size 17.05MB. Network has 13876 nodes and 14361 edges.\n"
     ]
    }
   ],
   "source": [
    "G = load_fis_network(url)"
   ]
  },
  {
   "cell_type": "markdown",
   "metadata": {},
   "source": [
    "# Inspect the network"
   ]
  },
  {
   "cell_type": "markdown",
   "metadata": {},
   "source": [
    "The network is now stored in a undirected [networkx](https://networkx.github.io/documentation/stable/tutorial.html) [Graph](https://networkx.github.io/documentation/stable/reference/classes/graph.html) object. You can use it to extract edges, nodes and their properties. "
   ]
  },
  {
   "cell_type": "code",
   "execution_count": 5,
   "metadata": {},
   "outputs": [
    {
     "data": {
      "text/html": [
       "<div>\n",
       "<style scoped>\n",
       "    .dataframe tbody tr th:only-of-type {\n",
       "        vertical-align: middle;\n",
       "    }\n",
       "\n",
       "    .dataframe tbody tr th {\n",
       "        vertical-align: top;\n",
       "    }\n",
       "\n",
       "    .dataframe thead th {\n",
       "        text-align: right;\n",
       "    }\n",
       "</style>\n",
       "<table border=\"1\" class=\"dataframe\">\n",
       "  <thead>\n",
       "    <tr style=\"text-align: right;\">\n",
       "      <th></th>\n",
       "      <th>Classification</th>\n",
       "      <th>Code</th>\n",
       "      <th>CoupledDepth</th>\n",
       "      <th>CoupledLength</th>\n",
       "      <th>CoupledWidth</th>\n",
       "      <th>Description</th>\n",
       "      <th>EndJunctionId</th>\n",
       "      <th>GeneralDepth</th>\n",
       "      <th>GeneralHeight</th>\n",
       "      <th>GeneralLength</th>\n",
       "      <th>...</th>\n",
       "      <th>SeaFairingHeight</th>\n",
       "      <th>SeaFairingLength</th>\n",
       "      <th>SeaFairingWidth</th>\n",
       "      <th>StartJunctionId</th>\n",
       "      <th>WidePushedDepth</th>\n",
       "      <th>WidePushedLength</th>\n",
       "      <th>WidePushedWidth</th>\n",
       "      <th>Wkt</th>\n",
       "      <th>length</th>\n",
       "      <th>geometry</th>\n",
       "    </tr>\n",
       "  </thead>\n",
       "  <tbody>\n",
       "    <tr>\n",
       "      <th>0</th>\n",
       "      <td>CEMT</td>\n",
       "      <td>IV</td>\n",
       "      <td>NaN</td>\n",
       "      <td>NaN</td>\n",
       "      <td>NaN</td>\n",
       "      <td>Rijn - Hernekanaalschip, Eenbaksduwstel</td>\n",
       "      <td>8.86452e+06</td>\n",
       "      <td>NaN</td>\n",
       "      <td>NaN</td>\n",
       "      <td>NaN</td>\n",
       "      <td>...</td>\n",
       "      <td>NaN</td>\n",
       "      <td>NaN</td>\n",
       "      <td>NaN</td>\n",
       "      <td>8.86436e+06</td>\n",
       "      <td>NaN</td>\n",
       "      <td>NaN</td>\n",
       "      <td>NaN</td>\n",
       "      <td>LINESTRING (4.69594354276411 51.7206871440897,...</td>\n",
       "      <td>186.483382</td>\n",
       "      <td>LINESTRING (4.69594354276411 51.7206871440897,...</td>\n",
       "    </tr>\n",
       "    <tr>\n",
       "      <th>1</th>\n",
       "      <td>CEMT</td>\n",
       "      <td>IV</td>\n",
       "      <td>NaN</td>\n",
       "      <td>NaN</td>\n",
       "      <td>NaN</td>\n",
       "      <td>Rijn - Hernekanaalschip, Eenbaksduwstel</td>\n",
       "      <td>8.86611e+06</td>\n",
       "      <td>NaN</td>\n",
       "      <td>NaN</td>\n",
       "      <td>90.0</td>\n",
       "      <td>...</td>\n",
       "      <td>NaN</td>\n",
       "      <td>NaN</td>\n",
       "      <td>NaN</td>\n",
       "      <td>8.86452e+06</td>\n",
       "      <td>NaN</td>\n",
       "      <td>NaN</td>\n",
       "      <td>NaN</td>\n",
       "      <td>LINESTRING (4.69599104281199 51.7190069976013,...</td>\n",
       "      <td>114.468704</td>\n",
       "      <td>LINESTRING (4.69599104281199 51.7190069976013,...</td>\n",
       "    </tr>\n",
       "    <tr>\n",
       "      <th>2</th>\n",
       "      <td>CEMT</td>\n",
       "      <td>I</td>\n",
       "      <td>NaN</td>\n",
       "      <td>NaN</td>\n",
       "      <td>NaN</td>\n",
       "      <td>Spits</td>\n",
       "      <td>B42301_A</td>\n",
       "      <td>NaN</td>\n",
       "      <td>NaN</td>\n",
       "      <td>90.0</td>\n",
       "      <td>...</td>\n",
       "      <td>NaN</td>\n",
       "      <td>NaN</td>\n",
       "      <td>NaN</td>\n",
       "      <td>8.86611e+06</td>\n",
       "      <td>NaN</td>\n",
       "      <td>NaN</td>\n",
       "      <td>NaN</td>\n",
       "      <td>LINESTRING (4.69542511729365 51.7181587042569,...</td>\n",
       "      <td>316.428991</td>\n",
       "      <td>LINESTRING (4.69542511729365 51.7181587042569,...</td>\n",
       "    </tr>\n",
       "    <tr>\n",
       "      <th>3</th>\n",
       "      <td>CEMT</td>\n",
       "      <td>_0</td>\n",
       "      <td>NaN</td>\n",
       "      <td>NaN</td>\n",
       "      <td>NaN</td>\n",
       "      <td>Kleine vaartuigen en recreatievaart</td>\n",
       "      <td>8.86149e+06</td>\n",
       "      <td>NaN</td>\n",
       "      <td>NaN</td>\n",
       "      <td>20.0</td>\n",
       "      <td>...</td>\n",
       "      <td>NaN</td>\n",
       "      <td>NaN</td>\n",
       "      <td>NaN</td>\n",
       "      <td>8.86598e+06</td>\n",
       "      <td>NaN</td>\n",
       "      <td>NaN</td>\n",
       "      <td>NaN</td>\n",
       "      <td>LINESTRING (4.82202214280621 52.1510773598852,...</td>\n",
       "      <td>1094.285531</td>\n",
       "      <td>LINESTRING (4.82202214280621 52.1510773598852,...</td>\n",
       "    </tr>\n",
       "    <tr>\n",
       "      <th>4</th>\n",
       "      <td>CEMT</td>\n",
       "      <td>_0</td>\n",
       "      <td>NaN</td>\n",
       "      <td>NaN</td>\n",
       "      <td>NaN</td>\n",
       "      <td>Kleine vaartuigen en recreatievaart</td>\n",
       "      <td>8.86598e+06</td>\n",
       "      <td>NaN</td>\n",
       "      <td>NaN</td>\n",
       "      <td>20.0</td>\n",
       "      <td>...</td>\n",
       "      <td>NaN</td>\n",
       "      <td>NaN</td>\n",
       "      <td>NaN</td>\n",
       "      <td>8.86751e+06</td>\n",
       "      <td>NaN</td>\n",
       "      <td>NaN</td>\n",
       "      <td>NaN</td>\n",
       "      <td>LINESTRING (4.81473279746155 52.1566328298255,...</td>\n",
       "      <td>1034.989616</td>\n",
       "      <td>LINESTRING (4.81473279746155 52.1566328298255,...</td>\n",
       "    </tr>\n",
       "  </tbody>\n",
       "</table>\n",
       "<p>5 rows × 29 columns</p>\n",
       "</div>"
      ],
      "text/plain": [
       "  Classification Code  CoupledDepth  CoupledLength  CoupledWidth  \\\n",
       "0           CEMT   IV           NaN            NaN           NaN   \n",
       "1           CEMT   IV           NaN            NaN           NaN   \n",
       "2           CEMT    I           NaN            NaN           NaN   \n",
       "3           CEMT   _0           NaN            NaN           NaN   \n",
       "4           CEMT   _0           NaN            NaN           NaN   \n",
       "\n",
       "                               Description EndJunctionId  GeneralDepth  \\\n",
       "0  Rijn - Hernekanaalschip, Eenbaksduwstel   8.86452e+06           NaN   \n",
       "1  Rijn - Hernekanaalschip, Eenbaksduwstel   8.86611e+06           NaN   \n",
       "2                                    Spits      B42301_A           NaN   \n",
       "3      Kleine vaartuigen en recreatievaart   8.86149e+06           NaN   \n",
       "4      Kleine vaartuigen en recreatievaart   8.86598e+06           NaN   \n",
       "\n",
       "   GeneralHeight  GeneralLength  ...  SeaFairingHeight SeaFairingLength  \\\n",
       "0            NaN            NaN  ...               NaN              NaN   \n",
       "1            NaN           90.0  ...               NaN              NaN   \n",
       "2            NaN           90.0  ...               NaN              NaN   \n",
       "3            NaN           20.0  ...               NaN              NaN   \n",
       "4            NaN           20.0  ...               NaN              NaN   \n",
       "\n",
       "   SeaFairingWidth  StartJunctionId WidePushedDepth  WidePushedLength  \\\n",
       "0              NaN      8.86436e+06             NaN               NaN   \n",
       "1              NaN      8.86452e+06             NaN               NaN   \n",
       "2              NaN      8.86611e+06             NaN               NaN   \n",
       "3              NaN      8.86598e+06             NaN               NaN   \n",
       "4              NaN      8.86751e+06             NaN               NaN   \n",
       "\n",
       "   WidePushedWidth                                                Wkt  \\\n",
       "0              NaN  LINESTRING (4.69594354276411 51.7206871440897,...   \n",
       "1              NaN  LINESTRING (4.69599104281199 51.7190069976013,...   \n",
       "2              NaN  LINESTRING (4.69542511729365 51.7181587042569,...   \n",
       "3              NaN  LINESTRING (4.82202214280621 52.1510773598852,...   \n",
       "4              NaN  LINESTRING (4.81473279746155 52.1566328298255,...   \n",
       "\n",
       "        length                                           geometry  \n",
       "0   186.483382  LINESTRING (4.69594354276411 51.7206871440897,...  \n",
       "1   114.468704  LINESTRING (4.69599104281199 51.7190069976013,...  \n",
       "2   316.428991  LINESTRING (4.69542511729365 51.7181587042569,...  \n",
       "3  1094.285531  LINESTRING (4.82202214280621 52.1510773598852,...  \n",
       "4  1034.989616  LINESTRING (4.81473279746155 52.1566328298255,...  \n",
       "\n",
       "[5 rows x 29 columns]"
      ]
     },
     "execution_count": 5,
     "metadata": {},
     "output_type": "execute_result"
    }
   ],
   "source": [
    "# Show the properties of the edges in a table\n",
    "edge_df = pd.DataFrame(\n",
    "    G.edges[edge] for edge in G.edges\n",
    ")\n",
    "edge_df.head()\n"
   ]
  },
  {
   "cell_type": "code",
   "execution_count": 6,
   "metadata": {},
   "outputs": [
    {
     "data": {
      "image/svg+xml": [
       "<svg xmlns=\"http://www.w3.org/2000/svg\" xmlns:xlink=\"http://www.w3.org/1999/xlink\" width=\"100.0\" height=\"100.0\" viewBox=\"16.912191254456342 47.65607377296532 2.011536792243337 0.5845461291823639\" preserveAspectRatio=\"xMinYMin meet\"><g transform=\"matrix(1,0,0,-1,0,95.896693675113)\"><polyline fill=\"none\" stroke=\"#66cc99\" stroke-width=\"0.04023073584486674\" points=\"16.98669261713202,48.16611853947201 17.016143017236,48.150026547207 17.021851931486,48.143814961701 17.030542875427,48.139907029045 17.047076305161,48.141389528001 17.060863152863,48.143902882568 17.096401751757,48.138527128313 17.123705298423,48.138199571237 17.14037522745,48.134565874427 17.148480863093,48.123745601224 17.134823054789,48.107371218222 17.159692496774,48.069101013638 17.236897201056,48.034733917645 17.28556320142,48.006373845341 17.337576598635,48.00200937251 17.367445678224,47.99144122472 17.509924621089,47.904516631348 17.621676177481,47.809376310455 17.634293288687,47.799575934068 17.685920447803,47.775759081531 17.711047381854,47.755999539082 17.737000436281,47.750272195898 17.757460326646,47.748237899644 17.779604644272,47.738772326836 17.805783004256,47.742350977442 17.840844840497,47.741369759012 17.857002467602,47.745034803962 17.890487164943,47.738555868306 17.916155905215,47.743627976671 17.946843058553,47.743393501759 17.959677428688,47.75608609359 17.972208709205,47.757240139931 17.998956368053,47.746384781326 18.030182980679,47.757576882223 18.088875413617,47.756765902111 18.109443262895,47.751912379522 18.129340224642,47.751793808333 18.147863895375,47.747981803523 18.184816688971,47.738721819926 18.212030381635,47.744212355701 18.234872073605,47.740417382261 18.25720951028,47.74021536071 18.292271346522,47.730575135641 18.336946219872,47.739407266668 18.375763148734,47.74613138143 18.392425031134,47.751339808924 18.418608755536,47.754867104345 18.442686945862,47.764477590631 18.456785977548,47.765589984434 18.474821821516,47.760145879188 18.488646262054,47.75234563545 18.514784556541,47.755831613911 18.543646550464,47.769113497039 18.56288406598,47.769753982013 18.613701554205,47.757150629 18.671382637183,47.757772398554 18.705029697227,47.777928549719 18.728719682327,47.790771664966 18.733698219799,47.810105675404 18.744427234628,47.81515919395 18.793050409033,47.823218396672 18.849226684024,47.814679272474\" opacity=\"0.8\" /></g></svg>"
      ],
      "text/plain": [
       "<shapely.geometry.linestring.LineString at 0x12aab2100>"
      ]
     },
     "execution_count": 6,
     "metadata": {},
     "output_type": "execute_result"
    }
   ],
   "source": [
    "# get an edge from the network. You can use the start/endJunction Id to get an edge..\n",
    "# We refer to the node pair with the variable e\n",
    "e = ('FN0', 'FN547')\n",
    "# Get the edge\n",
    "edge = G.edges[e]\n",
    "# Show it's original geometry\n",
    "edge['geometry']"
   ]
  },
  {
   "cell_type": "code",
   "execution_count": 7,
   "metadata": {},
   "outputs": [
    {
     "data": {
      "text/plain": [
       "{'X': 16.98656174475468,\n",
       " 'Y': 48.16587902631468,\n",
       " 'geometry': <shapely.geometry.point.Point at 0x15583ae80>}"
      ]
     },
     "execution_count": 7,
     "metadata": {},
     "output_type": "execute_result"
    }
   ],
   "source": [
    "# we're sailing from A to B\n",
    "a = G.nodes[e[0]]\n",
    "b = G.nodes[e[1]]\n",
    "a"
   ]
  },
  {
   "cell_type": "markdown",
   "metadata": {},
   "source": [
    "# Load the network into OpenTNSim"
   ]
  },
  {
   "cell_type": "code",
   "execution_count": 8,
   "metadata": {},
   "outputs": [],
   "source": [
    "# To run OpenTNSim we define a simpy as a simulation environment\n",
    "# By default it will start in 1970-01-01 \n",
    "env = simpy.Environment()\n",
    "# Add graph to environment. The convention is to store it as property FG (fairway graph)\n",
    "env.FG = G"
   ]
  },
  {
   "cell_type": "code",
   "execution_count": 9,
   "metadata": {},
   "outputs": [],
   "source": [
    "# Make a general vessel class out of mix-ins\n",
    "TransportResource = type('TransportResource', \n",
    "                         (opentnsim.core.Identifiable, opentnsim.core.ContainerDependentMovable, \n",
    "                          opentnsim.core.HasResource, opentnsim.core.Routeable), {})\n",
    "\n",
    "\n",
    "\n",
    "# We have to pass a velocity  function\n",
    "def compute_v_provider(v_empty, v_full):\n",
    "    return lambda x: 1\n",
    "\n",
    "data_vessel = {\"env\": None,\n",
    "               \"name\": \"Vessel number 1\",\n",
    "               \"route\": None,\n",
    "               \"geometry\": a['geometry'],  # lon, lat\n",
    "               \"capacity\": 1_000,\n",
    "               \"compute_v\": compute_v_provider(v_empty=1, v_full=1)}\n",
    "\n",
    "# create the transport processing resource\n",
    "vessel = TransportResource(**data_vessel)\n"
   ]
  },
  {
   "cell_type": "code",
   "execution_count": 10,
   "metadata": {},
   "outputs": [],
   "source": [
    "# Now define the sites (A and B)\n",
    "Node = type('Site', (opentnsim.core.Identifiable, opentnsim.core.Log, opentnsim.core.Locatable, opentnsim.core.HasResource), {})\n",
    "\n",
    "data_node_1 = {\"env\": [],\n",
    "               \"name\": \"Node 1\",\n",
    "               \"geometry\": shapely.geometry.Point(a['X'], a['Y'])}\n",
    "data_node_2 = {\"env\": [],\n",
    "               \"name\": \"Node 2\",\n",
    "               \"geometry\": shapely.geometry.Point(b['X'], b['Y'])}\n",
    "\n",
    "node_1 = Node(**data_node_1)\n",
    "node_2 = Node(**data_node_2)\n",
    "\n",
    "nodes = [node_1, node_2]"
   ]
  },
  {
   "cell_type": "code",
   "execution_count": 11,
   "metadata": {},
   "outputs": [],
   "source": [
    "# define the route along which we're going to sail\n",
    "path = [e]"
   ]
  },
  {
   "cell_type": "code",
   "execution_count": 12,
   "metadata": {},
   "outputs": [
    {
     "data": {
      "text/plain": [
       "('FN0', 'FN547')"
      ]
     },
     "execution_count": 12,
     "metadata": {},
     "output_type": "execute_result"
    }
   ],
   "source": [
    "# Add environment and path to the vessel\n",
    "vessel.env = env\n",
    "vessel.route = path[0]\n",
    "vessel.route"
   ]
  },
  {
   "cell_type": "code",
   "execution_count": 13,
   "metadata": {},
   "outputs": [],
   "source": [
    "# Now we can run a first simulation\n",
    "def start(env, vessel):\n",
    "    yield from vessel.move()\n",
    "        \n",
    "env.process(start(env, vessel))\n",
    "env.run()\n"
   ]
  },
  {
   "cell_type": "code",
   "execution_count": 14,
   "metadata": {},
   "outputs": [
    {
     "data": {
      "text/html": [
       "<div>\n",
       "<style scoped>\n",
       "    .dataframe tbody tr th:only-of-type {\n",
       "        vertical-align: middle;\n",
       "    }\n",
       "\n",
       "    .dataframe tbody tr th {\n",
       "        vertical-align: top;\n",
       "    }\n",
       "\n",
       "    .dataframe thead th {\n",
       "        text-align: right;\n",
       "    }\n",
       "</style>\n",
       "<table border=\"1\" class=\"dataframe\">\n",
       "  <thead>\n",
       "    <tr style=\"text-align: right;\">\n",
       "      <th></th>\n",
       "      <th>Message</th>\n",
       "      <th>Timestamp</th>\n",
       "      <th>Value</th>\n",
       "      <th>Geometry</th>\n",
       "    </tr>\n",
       "  </thead>\n",
       "  <tbody>\n",
       "    <tr>\n",
       "      <th>0</th>\n",
       "      <td>Sailing from node FN0 to node FN547 start</td>\n",
       "      <td>1970-01-01 01:00:00.000000</td>\n",
       "      <td>0</td>\n",
       "      <td>POINT (16.98656174475468 48.16587902631468)</td>\n",
       "    </tr>\n",
       "    <tr>\n",
       "      <th>1</th>\n",
       "      <td>Sailing from node FN0 to node FN547 start</td>\n",
       "      <td>1970-01-02 17:06:43.939033</td>\n",
       "      <td>0</td>\n",
       "      <td>POINT (18.849226684024 47.814679272474)</td>\n",
       "    </tr>\n",
       "  </tbody>\n",
       "</table>\n",
       "</div>"
      ],
      "text/plain": [
       "                                     Message                  Timestamp  \\\n",
       "0  Sailing from node FN0 to node FN547 start 1970-01-01 01:00:00.000000   \n",
       "1  Sailing from node FN0 to node FN547 start 1970-01-02 17:06:43.939033   \n",
       "\n",
       "   Value                                     Geometry  \n",
       "0      0  POINT (16.98656174475468 48.16587902631468)  \n",
       "1      0      POINT (18.849226684024 47.814679272474)  "
      ]
     },
     "execution_count": 14,
     "metadata": {},
     "output_type": "execute_result"
    }
   ],
   "source": [
    "# The vessel should now have sailed from A to B \n",
    "pd.DataFrame(vessel.log)"
   ]
  },
  {
   "cell_type": "code",
   "execution_count": 15,
   "metadata": {},
   "outputs": [
    {
     "data": {
      "text/plain": [
       "1.5841638781327159"
      ]
     },
     "execution_count": 15,
     "metadata": {},
     "output_type": "execute_result"
    }
   ],
   "source": [
    "# let's lookup how long it took\n",
    "t = vessel.log['Timestamp'][1] - vessel.log['Timestamp'][0] \n",
    "m_per_s = edge['length'] / t.total_seconds()\n",
    "# The ship is actualy sailing a bit to fast because in the default move function it is going straight from A to B\n",
    "m_per_s "
   ]
  }
 ],
 "metadata": {
  "kernelspec": {
   "display_name": "Python 3",
   "language": "python",
   "name": "python3"
  },
  "language_info": {
   "codemirror_mode": {
    "name": "ipython",
    "version": 3
   },
   "file_extension": ".py",
   "mimetype": "text/x-python",
   "name": "python",
   "nbconvert_exporter": "python",
   "pygments_lexer": "ipython3",
   "version": "3.8.3"
  }
 },
 "nbformat": 4,
 "nbformat_minor": 4
}
