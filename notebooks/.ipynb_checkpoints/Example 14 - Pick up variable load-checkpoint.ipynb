{
 "cells": [
  {
   "cell_type": "markdown",
   "metadata": {},
   "source": [
    "## Example 14 - Pick up variable load"
   ]
  },
  {
   "cell_type": "code",
   "execution_count": 1,
   "metadata": {},
   "outputs": [],
   "source": [
    "# package(s) related to time, space and id\n",
    "import datetime, time\n",
    "import platform\n",
    "import random\n",
    "import os\n",
    "\n",
    "# you need these dependencies (you can get these from anaconda)\n",
    "# package(s) related to the simulation\n",
    "import simpy\n",
    "\n",
    "# spatial libraries \n",
    "import pyproj\n",
    "import shapely.geometry\n",
    "from simplekml import Kml, Style\n",
    "\n",
    "# package(s) for data handling\n",
    "import pandas as pd\n",
    "import numpy as np\n",
    "import matplotlib.pyplot as plt\n",
    "import matplotlib.animation as animation\n",
    "\n",
    "# tranport network analysis package\n",
    "import transport_network_analysis.core as core\n",
    "import transport_network_analysis.graph_module as graph_module\n",
    "import transport_network_analysis.model as model\n",
    "\n",
    "# Used for mathematical functions\n",
    "import math             \n",
    "\n",
    "# Used for making the graph to visualize our problem\n",
    "import networkx as nx  "
   ]
  },
  {
   "cell_type": "markdown",
   "metadata": {},
   "source": [
    "### Create graph"
   ]
  },
  {
   "cell_type": "markdown",
   "metadata": {},
   "source": [
    "The cel below visualizes the problem. In graph theory the red dots are called *edges* and the lines are called *vertices*. Vessels (or any other object) move from edge 1 to edge 3 and from edge 4 to edge 2. The added complexity is that vertice 5-6 only allows traffic in one direction at a time. Vessels can travel simultanously in one direction."
   ]
  },
  {
   "cell_type": "code",
   "execution_count": 2,
   "metadata": {},
   "outputs": [],
   "source": [
    "Node = type('Station', (core.Identifiable, core.Log, core.Locatable, core.HasResource, core.Station), {})\n",
    "\n",
    "data_node_1 = {\"env\": [],\n",
    "               \"name\": \"Node 1\",\n",
    "               \"geometry\": shapely.geometry.Point(0, 0),\n",
    "               \"capacity\": 100}\n",
    "data_node_2 = {\"env\": [],\n",
    "               \"name\": \"Node 2\",\n",
    "               \"geometry\": shapely.geometry.Point(0.05, 0),\n",
    "               \"capacity\": 100}\n",
    "data_node_3 = {\"env\": [],\n",
    "               \"name\": \"Node 3\",\n",
    "               \"geometry\": shapely.geometry.Point(0.10, 0),\n",
    "               \"capacity\": 100}\n",
    "data_node_4 = {\"env\": [],\n",
    "               \"name\": \"Node 4\",\n",
    "               \"geometry\": shapely.geometry.Point(0.15, 0),\n",
    "               \"capacity\": 100}\n",
    "\n",
    "node_1 = Node(**data_node_1)\n",
    "node_2 = Node(**data_node_2)\n",
    "node_3 = Node(**data_node_3)\n",
    "node_4 = Node(**data_node_4)\n",
    "\n",
    "nodes = [node_1, node_2, node_3, node_4]"
   ]
  },
  {
   "cell_type": "code",
   "execution_count": 3,
   "metadata": {},
   "outputs": [
    {
     "data": {
      "image/png": "[encoded data removed]",
      "text/plain": [
       "<Figure size 432x288 with 1 Axes>"
      ]
     },
     "metadata": {},
     "output_type": "display_data"
    }
   ],
   "source": [
    "FG = nx.DiGraph()\n",
    "\n",
    "positions = {}\n",
    "for node in nodes:\n",
    "    positions[node.name] = (node.geometry.x, node.geometry.y)\n",
    "    FG.add_node(node.name, geometry = node.geometry, object_type = node)\n",
    "\n",
    "path = [[node_1, node_2], # From node 1 to node 2\n",
    "        [node_2, node_1], # From node 2 to node 1\n",
    "        [node_2, node_3], # From node 2 to node 3\n",
    "        [node_3, node_2], # From node 3 to node 2\n",
    "        [node_3, node_4], # From node 3 to node 4\n",
    "        [node_4, node_3]] # From node 4 to node 3\n",
    "\n",
    "for edge in path:\n",
    "    FG.add_edge(edge[0].name, edge[1].name, weight = 1)\n",
    "\n",
    "nx.draw(FG, positions)\n",
    "plt.show()"
   ]
  },
  {
   "cell_type": "markdown",
   "metadata": {},
   "source": [
    "### Create moving parts"
   ]
  },
  {
   "cell_type": "code",
   "execution_count": 4,
   "metadata": {},
   "outputs": [],
   "source": [
    "def generate_passenger(origin, destination, environment):\n",
    "    \"\"\" Generate a passenger \"\"\"\n",
    "    Passenger = type('Passenger', (core.Identifiable, core.Routeable, core.Log), {})\n",
    "    \n",
    "    # Name of the object\n",
    "    name = \"Passenger\"\n",
    "    \n",
    "    # Geometry of the origin\n",
    "    geometry = nx.get_node_attributes(environment.FG, \"object_type\")[origin].geometry\n",
    "    \n",
    "    # Travel direction\n",
    "    route = nx.dijkstra_path(environment.FG, origin, destination)\n",
    "    \n",
    "    return Passenger(**{\"env\": environment, \n",
    "                        \"name\": name, \n",
    "                        \"route\": route})"
   ]
  },
  {
   "cell_type": "code",
   "execution_count": 5,
   "metadata": {},
   "outputs": [],
   "source": [
    "def generate_metro(origin, destination, environment):\n",
    "    \"\"\" Generate a metro \"\"\"\n",
    "    Metro = type('Metro', \n",
    "                 (core.Identifiable, core.Movable, core.HasContainer, core.HasResource, core.Routeable, core.Mover), \n",
    "                 {})\n",
    "\n",
    "    # Name of the object\n",
    "    name = \"Metro\"\n",
    "    \n",
    "    # Geometry of origin\n",
    "    geometry = nx.get_node_attributes(environment.FG, \"object_type\")[origin].geometry\n",
    "    \n",
    "    # Travel direction\n",
    "    route = nx.dijkstra_path(environment.FG, origin, destination)\n",
    "    \n",
    "    # Maximum passengers\n",
    "    capacity = 50\n",
    "    \n",
    "    return Metro(**{\"env\": environment, \n",
    "                    \"name\": name, \n",
    "                    \"route\": route, \n",
    "                    \"capacity\": capacity, \n",
    "                    \"geometry\": geometry})"
   ]
  },
  {
   "cell_type": "markdown",
   "metadata": {},
   "source": [
    "### Spawn the metro trains"
   ]
  },
  {
   "cell_type": "code",
   "execution_count": 6,
   "metadata": {},
   "outputs": [],
   "source": [
    "def metro_1_4(env):\n",
    "    while True:\n",
    "        metro = generate_metro(\"Node 1\", \"Node 4\", env)\n",
    "        env.metros.append(metro)\n",
    "        env.process(metro.move())\n",
    "        \n",
    "        # One metro every 20 minutes\n",
    "        yield env.timeout(20 * 60)"
   ]
  },
  {
   "cell_type": "code",
   "execution_count": 7,
   "metadata": {},
   "outputs": [],
   "source": [
    "def metro_4_1(env):\n",
    "    while True:\n",
    "        metro = generate_metro(\"Node 4\", \"Node 1\", env)\n",
    "        env.metros.append(metro)\n",
    "        env.process(metro.move())\n",
    "        \n",
    "        # One metro every 20 minutes\n",
    "        yield env.timeout(20 * 60)"
   ]
  },
  {
   "cell_type": "code",
   "execution_count": 8,
   "metadata": {},
   "outputs": [],
   "source": [
    "def passengers(env):\n",
    "    while True:\n",
    "        origin, destination = random.sample(env.FG.nodes, 2)\n",
    "        \n",
    "        passenger = generate_passenger(origin, destination, env)\n",
    "        FG.nodes[origin][\"object_type\"].units.append(passenger)\n",
    "        \n",
    "        passenger.log_entry(\"Waiting for metro start\", env.now, 0, nx.get_node_attributes(env.FG, \"object_type\")[origin].geometry)\n",
    "        env.passengers.append(passenger)\n",
    "        \n",
    "        # Random arrivals of passengers with mean interarrival time of 30 seconds\n",
    "        yield env.timeout(random.random() * 60)"
   ]
  },
  {
   "cell_type": "markdown",
   "metadata": {},
   "source": [
    "### Run simulation"
   ]
  },
  {
   "cell_type": "code",
   "execution_count": 9,
   "metadata": {},
   "outputs": [],
   "source": [
    "# Simulation start time\n",
    "simulation_start = datetime.datetime(2019, 1, 1)\n",
    "\n",
    "# Make simulation environment\n",
    "env = simpy.Environment(initial_time = time.mktime(simulation_start.timetuple()))\n",
    "env.FG = FG\n",
    "\n",
    "# For loggin\n",
    "env.metros = []\n",
    "env.passengers = []\n",
    "\n",
    "# Start the simulation\n",
    "env.process(metro_1_4(env))\n",
    "env.process(metro_4_1(env))\n",
    "env.process(passengers(env))\n",
    "env.run(until = env.now + 1 * 24 * 60 * 60)"
   ]
  },
  {
   "cell_type": "markdown",
   "metadata": {},
   "source": [
    "### Check results"
   ]
  },
  {
   "cell_type": "code",
   "execution_count": 10,
   "metadata": {},
   "outputs": [
    {
     "data": {
      "text/plain": [
       "['Node 1', 'Node 2', 'Node 3']"
      ]
     },
     "execution_count": 10,
     "metadata": {},
     "output_type": "execute_result"
    }
   ],
   "source": [
    "env.passengers[0].route"
   ]
  },
  {
   "cell_type": "code",
   "execution_count": 11,
   "metadata": {},
   "outputs": [
    {
     "data": {
      "text/plain": [
       "{'Message': ['Waiting for metro start',\n",
       "  'Waiting for metro stop',\n",
       "  'In metro start',\n",
       "  'In metro stop'],\n",
       " 'Timestamp': [datetime.datetime(2019, 1, 1, 0, 0),\n",
       "  datetime.datetime(2019, 1, 1, 0, 0),\n",
       "  datetime.datetime(2019, 1, 1, 0, 0),\n",
       "  datetime.datetime(2019, 1, 1, 3, 5, 31, 949080)],\n",
       " 'Value': [0, 0, 0, 0],\n",
       " 'Geometry': [<shapely.geometry.point.Point at 0x1c38c3d2518>,\n",
       "  <shapely.geometry.point.Point at 0x1c38c3d2518>,\n",
       "  <shapely.geometry.point.Point at 0x1c38c3d2518>,\n",
       "  <shapely.geometry.point.Point at 0x1c38c3d25c0>]}"
      ]
     },
     "execution_count": 11,
     "metadata": {},
     "output_type": "execute_result"
    }
   ],
   "source": [
    "env.passengers[0].log"
   ]
  },
  {
   "cell_type": "code",
   "execution_count": 12,
   "metadata": {},
   "outputs": [
    {
     "name": "stdout",
     "output_type": "stream",
     "text": [
      "['Node 2', 'Node 3']\n",
      "['Node 2', 'Node 3', 'Node 4']\n",
      "['Node 2', 'Node 3', 'Node 4']\n",
      "['Node 2', 'Node 3', 'Node 4']\n",
      "['Node 2', 'Node 3']\n",
      "['Node 2', 'Node 3', 'Node 4']\n",
      "['Node 3', 'Node 4']\n",
      "['Node 3', 'Node 4']\n",
      "['Node 3', 'Node 4']\n",
      "['Node 3', 'Node 4']\n",
      "['Node 3', 'Node 4']\n",
      "['Node 3', 'Node 4']\n",
      "['Node 3', 'Node 4']\n"
     ]
    }
   ],
   "source": [
    "for i in env.metros[0].units:\n",
    "    print(i.route)"
   ]
  },
  {
   "cell_type": "code",
   "execution_count": 13,
   "metadata": {},
   "outputs": [
    {
     "data": {
      "text/plain": [
       "{'Message': ['Loading start',\n",
       "  'Loading stop',\n",
       "  'Sailing from node Node 1 to node Node 2 start',\n",
       "  'Sailing from node Node 1 to node Node 2 stop',\n",
       "  'Unloading start',\n",
       "  'Unoading stop',\n",
       "  'Loading start',\n",
       "  'Loading stop',\n",
       "  'Sailing from node Node 2 to node Node 3 start',\n",
       "  'Sailing from node Node 2 to node Node 3 stop',\n",
       "  'Unloading start',\n",
       "  'Unoading stop',\n",
       "  'Loading start',\n",
       "  'Loading stop',\n",
       "  'Sailing from node Node 3 to node Node 4 start',\n",
       "  'Sailing from node Node 3 to node Node 4 stop',\n",
       "  'Unloading start',\n",
       "  'Unoading stop'],\n",
       " 'Timestamp': [datetime.datetime(2019, 1, 1, 0, 0),\n",
       "  datetime.datetime(2019, 1, 1, 0, 0),\n",
       "  datetime.datetime(2019, 1, 1, 0, 0),\n",
       "  datetime.datetime(2019, 1, 1, 1, 32, 45, 974540),\n",
       "  datetime.datetime(2019, 1, 1, 1, 32, 45, 974540),\n",
       "  datetime.datetime(2019, 1, 1, 1, 32, 45, 974540),\n",
       "  datetime.datetime(2019, 1, 1, 1, 32, 45, 974540),\n",
       "  datetime.datetime(2019, 1, 1, 1, 32, 45, 974540),\n",
       "  datetime.datetime(2019, 1, 1, 1, 32, 45, 974540),\n",
       "  datetime.datetime(2019, 1, 1, 3, 5, 31, 949080),\n",
       "  datetime.datetime(2019, 1, 1, 3, 5, 31, 949080),\n",
       "  datetime.datetime(2019, 1, 1, 3, 5, 31, 949080),\n",
       "  datetime.datetime(2019, 1, 1, 3, 5, 31, 949080),\n",
       "  datetime.datetime(2019, 1, 1, 3, 5, 31, 949080),\n",
       "  datetime.datetime(2019, 1, 1, 3, 5, 31, 949080),\n",
       "  datetime.datetime(2019, 1, 1, 4, 38, 17, 923619),\n",
       "  datetime.datetime(2019, 1, 1, 4, 38, 17, 923619),\n",
       "  datetime.datetime(2019, 1, 1, 4, 38, 17, 923619)],\n",
       " 'Value': [0, 30, 0, 0, 0, 30, 0, 30, 0, 0, 0, 30, 0, 30, 0, 0, 0, 30],\n",
       " 'Geometry': [<shapely.geometry.point.Point at 0x1c38c3d2518>,\n",
       "  <shapely.geometry.point.Point at 0x1c38c3d2518>,\n",
       "  <shapely.geometry.point.Point at 0x1c38c3d2518>,\n",
       "  <shapely.geometry.point.Point at 0x1c38c3d2550>,\n",
       "  <shapely.geometry.point.Point at 0x1c38c3d2550>,\n",
       "  <shapely.geometry.point.Point at 0x1c38c3d2550>,\n",
       "  <shapely.geometry.point.Point at 0x1c38c3d2550>,\n",
       "  <shapely.geometry.point.Point at 0x1c38c3d2550>,\n",
       "  <shapely.geometry.point.Point at 0x1c38c3d2550>,\n",
       "  <shapely.geometry.point.Point at 0x1c38c3d25c0>,\n",
       "  <shapely.geometry.point.Point at 0x1c38c3d25c0>,\n",
       "  <shapely.geometry.point.Point at 0x1c38c3d25c0>,\n",
       "  <shapely.geometry.point.Point at 0x1c38c3d25c0>,\n",
       "  <shapely.geometry.point.Point at 0x1c38c3d25c0>,\n",
       "  <shapely.geometry.point.Point at 0x1c38c3d25c0>,\n",
       "  <shapely.geometry.point.Point at 0x1c38c3d2630>,\n",
       "  <shapely.geometry.point.Point at 0x1c38c3d2630>,\n",
       "  <shapely.geometry.point.Point at 0x1c38c3d2630>]}"
      ]
     },
     "execution_count": 13,
     "metadata": {},
     "output_type": "execute_result"
    }
   ],
   "source": [
    "env.metros[0].log"
   ]
  }
 ],
 "metadata": {
  "kernelspec": {
   "display_name": "Python 3",
   "language": "python",
   "name": "python3"
  },
  "language_info": {
   "codemirror_mode": {
    "name": "ipython",
    "version": 3
   },
   "file_extension": ".py",
   "mimetype": "text/x-python",
   "name": "python",
   "nbconvert_exporter": "python",
   "pygments_lexer": "ipython3",
   "version": "3.7.0"
  }
 },
 "nbformat": 4,
 "nbformat_minor": 2
}
