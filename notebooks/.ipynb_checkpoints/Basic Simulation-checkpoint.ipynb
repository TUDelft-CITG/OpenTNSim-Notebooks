{
 "cells": [
  {
   "cell_type": "markdown",
   "metadata": {},
   "source": [
    "## TO DO LIST\n",
    "\n",
    "##### Deze week\n",
    "\n",
    "* **[DONE]** Voertuig/passagier logging verbeteren\n",
    "* **[DONE]** Overstap mogelijk maken\n",
    "* **[DONE]** Voertuig moet de juiste mensen meenemen\n",
    "* **[DONE]** Keuzes toevoegen op basis van class\n",
    "* Overstap-/wachttijd\n",
    "  * Wachttijd voor reis door departure - creation\n",
    "  * Wachttijd updaten bij elke overstap\n",
    "  * Overstaptijd delay toevoegen\n",
    "  * Overstaptijd is x * aantal keren overstappen\n",
    "* Bepaalde verdeling van mensen simuleren\n",
    "\n",
    "\n",
    "##### Volgende week\n",
    "* Nodes samen nemen\n",
    "* Meer voertuigen toevoegen\n",
    "* Netwerk uitbreiden"
   ]
  },
  {
   "cell_type": "code",
   "execution_count": 1,
   "metadata": {},
   "outputs": [],
   "source": [
    "# Package(s) related to time, space and id\n",
    "import datetime, time\n",
    "import platform\n",
    "import random\n",
    "import os\n",
    "\n",
    "# You need these dependencies (you can get these from anaconda)\n",
    "# package(s) related to the simulation\n",
    "import simpy\n",
    "\n",
    "# Spatial libraries \n",
    "import pyproj\n",
    "import shapely.geometry\n",
    "from simplekml import Kml, Style\n",
    "\n",
    "# Package(s) for data handling\n",
    "import pandas as pd\n",
    "import numpy as np\n",
    "import matplotlib.pyplot as plt\n",
    "import matplotlib.animation as animation\n",
    "\n",
    "# Tranport network analysis package\n",
    "import transport_network_analysis.core as core\n",
    "import transport_network_analysis.graph_module as graph_module\n",
    "import transport_network_analysis.model as model\n",
    "\n",
    "# Used for mathematical functions\n",
    "import math             \n",
    "\n",
    "# Used for making the graph to visualize our problem\n",
    "import networkx as nx  "
   ]
  },
  {
   "cell_type": "markdown",
   "metadata": {},
   "source": [
    "### Import data"
   ]
  },
  {
   "cell_type": "code",
   "execution_count": 2,
   "metadata": {},
   "outputs": [
    {
     "ename": "FileNotFoundError",
     "evalue": "File b'../../stations.csv' does not exist",
     "output_type": "error",
     "traceback": [
      "\u001b[1;31m---------------------------------------------------------------------------\u001b[0m",
      "\u001b[1;31mFileNotFoundError\u001b[0m                         Traceback (most recent call last)",
      "\u001b[1;32m<ipython-input-2-39daf160edf9>\u001b[0m in \u001b[0;36m<module>\u001b[1;34m()\u001b[0m\n\u001b[0;32m      1\u001b[0m \u001b[1;31m# Import stations and lines from excel sheets\u001b[0m\u001b[1;33m\u001b[0m\u001b[1;33m\u001b[0m\u001b[0m\n\u001b[1;32m----> 2\u001b[1;33m \u001b[0mdf1\u001b[0m \u001b[1;33m=\u001b[0m \u001b[0mpd\u001b[0m\u001b[1;33m.\u001b[0m\u001b[0mread_csv\u001b[0m\u001b[1;33m(\u001b[0m\u001b[1;34m\"../../stations.csv\"\u001b[0m\u001b[1;33m)\u001b[0m\u001b[1;33m\u001b[0m\u001b[0m\n\u001b[0m\u001b[0;32m      3\u001b[0m \u001b[0mdf2\u001b[0m \u001b[1;33m=\u001b[0m \u001b[0mpd\u001b[0m\u001b[1;33m.\u001b[0m\u001b[0mread_csv\u001b[0m\u001b[1;33m(\u001b[0m\u001b[1;34m\"../../lijnen.csv\"\u001b[0m\u001b[1;33m)\u001b[0m\u001b[1;33m\u001b[0m\u001b[0m\n\u001b[0;32m      4\u001b[0m \u001b[1;33m\u001b[0m\u001b[0m\n\u001b[0;32m      5\u001b[0m \u001b[1;31m# Convert columns to lst type\u001b[0m\u001b[1;33m\u001b[0m\u001b[1;33m\u001b[0m\u001b[0m\n",
      "\u001b[1;32mC:\\tools\\Anaconda3\\lib\\site-packages\\pandas\\io\\parsers.py\u001b[0m in \u001b[0;36mparser_f\u001b[1;34m(filepath_or_buffer, sep, delimiter, header, names, index_col, usecols, squeeze, prefix, mangle_dupe_cols, dtype, engine, converters, true_values, false_values, skipinitialspace, skiprows, nrows, na_values, keep_default_na, na_filter, verbose, skip_blank_lines, parse_dates, infer_datetime_format, keep_date_col, date_parser, dayfirst, iterator, chunksize, compression, thousands, decimal, lineterminator, quotechar, quoting, escapechar, comment, encoding, dialect, tupleize_cols, error_bad_lines, warn_bad_lines, skipfooter, doublequote, delim_whitespace, low_memory, memory_map, float_precision)\u001b[0m\n\u001b[0;32m    676\u001b[0m                     skip_blank_lines=skip_blank_lines)\n\u001b[0;32m    677\u001b[0m \u001b[1;33m\u001b[0m\u001b[0m\n\u001b[1;32m--> 678\u001b[1;33m         \u001b[1;32mreturn\u001b[0m \u001b[0m_read\u001b[0m\u001b[1;33m(\u001b[0m\u001b[0mfilepath_or_buffer\u001b[0m\u001b[1;33m,\u001b[0m \u001b[0mkwds\u001b[0m\u001b[1;33m)\u001b[0m\u001b[1;33m\u001b[0m\u001b[0m\n\u001b[0m\u001b[0;32m    679\u001b[0m \u001b[1;33m\u001b[0m\u001b[0m\n\u001b[0;32m    680\u001b[0m     \u001b[0mparser_f\u001b[0m\u001b[1;33m.\u001b[0m\u001b[0m__name__\u001b[0m \u001b[1;33m=\u001b[0m \u001b[0mname\u001b[0m\u001b[1;33m\u001b[0m\u001b[0m\n",
      "\u001b[1;32mC:\\tools\\Anaconda3\\lib\\site-packages\\pandas\\io\\parsers.py\u001b[0m in \u001b[0;36m_read\u001b[1;34m(filepath_or_buffer, kwds)\u001b[0m\n\u001b[0;32m    438\u001b[0m \u001b[1;33m\u001b[0m\u001b[0m\n\u001b[0;32m    439\u001b[0m     \u001b[1;31m# Create the parser.\u001b[0m\u001b[1;33m\u001b[0m\u001b[1;33m\u001b[0m\u001b[0m\n\u001b[1;32m--> 440\u001b[1;33m     \u001b[0mparser\u001b[0m \u001b[1;33m=\u001b[0m \u001b[0mTextFileReader\u001b[0m\u001b[1;33m(\u001b[0m\u001b[0mfilepath_or_buffer\u001b[0m\u001b[1;33m,\u001b[0m \u001b[1;33m**\u001b[0m\u001b[0mkwds\u001b[0m\u001b[1;33m)\u001b[0m\u001b[1;33m\u001b[0m\u001b[0m\n\u001b[0m\u001b[0;32m    441\u001b[0m \u001b[1;33m\u001b[0m\u001b[0m\n\u001b[0;32m    442\u001b[0m     \u001b[1;32mif\u001b[0m \u001b[0mchunksize\u001b[0m \u001b[1;32mor\u001b[0m \u001b[0miterator\u001b[0m\u001b[1;33m:\u001b[0m\u001b[1;33m\u001b[0m\u001b[0m\n",
      "\u001b[1;32mC:\\tools\\Anaconda3\\lib\\site-packages\\pandas\\io\\parsers.py\u001b[0m in \u001b[0;36m__init__\u001b[1;34m(self, f, engine, **kwds)\u001b[0m\n\u001b[0;32m    785\u001b[0m             \u001b[0mself\u001b[0m\u001b[1;33m.\u001b[0m\u001b[0moptions\u001b[0m\u001b[1;33m[\u001b[0m\u001b[1;34m'has_index_names'\u001b[0m\u001b[1;33m]\u001b[0m \u001b[1;33m=\u001b[0m \u001b[0mkwds\u001b[0m\u001b[1;33m[\u001b[0m\u001b[1;34m'has_index_names'\u001b[0m\u001b[1;33m]\u001b[0m\u001b[1;33m\u001b[0m\u001b[0m\n\u001b[0;32m    786\u001b[0m \u001b[1;33m\u001b[0m\u001b[0m\n\u001b[1;32m--> 787\u001b[1;33m         \u001b[0mself\u001b[0m\u001b[1;33m.\u001b[0m\u001b[0m_make_engine\u001b[0m\u001b[1;33m(\u001b[0m\u001b[0mself\u001b[0m\u001b[1;33m.\u001b[0m\u001b[0mengine\u001b[0m\u001b[1;33m)\u001b[0m\u001b[1;33m\u001b[0m\u001b[0m\n\u001b[0m\u001b[0;32m    788\u001b[0m \u001b[1;33m\u001b[0m\u001b[0m\n\u001b[0;32m    789\u001b[0m     \u001b[1;32mdef\u001b[0m \u001b[0mclose\u001b[0m\u001b[1;33m(\u001b[0m\u001b[0mself\u001b[0m\u001b[1;33m)\u001b[0m\u001b[1;33m:\u001b[0m\u001b[1;33m\u001b[0m\u001b[0m\n",
      "\u001b[1;32mC:\\tools\\Anaconda3\\lib\\site-packages\\pandas\\io\\parsers.py\u001b[0m in \u001b[0;36m_make_engine\u001b[1;34m(self, engine)\u001b[0m\n\u001b[0;32m   1012\u001b[0m     \u001b[1;32mdef\u001b[0m \u001b[0m_make_engine\u001b[0m\u001b[1;33m(\u001b[0m\u001b[0mself\u001b[0m\u001b[1;33m,\u001b[0m \u001b[0mengine\u001b[0m\u001b[1;33m=\u001b[0m\u001b[1;34m'c'\u001b[0m\u001b[1;33m)\u001b[0m\u001b[1;33m:\u001b[0m\u001b[1;33m\u001b[0m\u001b[0m\n\u001b[0;32m   1013\u001b[0m         \u001b[1;32mif\u001b[0m \u001b[0mengine\u001b[0m \u001b[1;33m==\u001b[0m \u001b[1;34m'c'\u001b[0m\u001b[1;33m:\u001b[0m\u001b[1;33m\u001b[0m\u001b[0m\n\u001b[1;32m-> 1014\u001b[1;33m             \u001b[0mself\u001b[0m\u001b[1;33m.\u001b[0m\u001b[0m_engine\u001b[0m \u001b[1;33m=\u001b[0m \u001b[0mCParserWrapper\u001b[0m\u001b[1;33m(\u001b[0m\u001b[0mself\u001b[0m\u001b[1;33m.\u001b[0m\u001b[0mf\u001b[0m\u001b[1;33m,\u001b[0m \u001b[1;33m**\u001b[0m\u001b[0mself\u001b[0m\u001b[1;33m.\u001b[0m\u001b[0moptions\u001b[0m\u001b[1;33m)\u001b[0m\u001b[1;33m\u001b[0m\u001b[0m\n\u001b[0m\u001b[0;32m   1015\u001b[0m         \u001b[1;32melse\u001b[0m\u001b[1;33m:\u001b[0m\u001b[1;33m\u001b[0m\u001b[0m\n\u001b[0;32m   1016\u001b[0m             \u001b[1;32mif\u001b[0m \u001b[0mengine\u001b[0m \u001b[1;33m==\u001b[0m \u001b[1;34m'python'\u001b[0m\u001b[1;33m:\u001b[0m\u001b[1;33m\u001b[0m\u001b[0m\n",
      "\u001b[1;32mC:\\tools\\Anaconda3\\lib\\site-packages\\pandas\\io\\parsers.py\u001b[0m in \u001b[0;36m__init__\u001b[1;34m(self, src, **kwds)\u001b[0m\n\u001b[0;32m   1706\u001b[0m         \u001b[0mkwds\u001b[0m\u001b[1;33m[\u001b[0m\u001b[1;34m'usecols'\u001b[0m\u001b[1;33m]\u001b[0m \u001b[1;33m=\u001b[0m \u001b[0mself\u001b[0m\u001b[1;33m.\u001b[0m\u001b[0musecols\u001b[0m\u001b[1;33m\u001b[0m\u001b[0m\n\u001b[0;32m   1707\u001b[0m \u001b[1;33m\u001b[0m\u001b[0m\n\u001b[1;32m-> 1708\u001b[1;33m         \u001b[0mself\u001b[0m\u001b[1;33m.\u001b[0m\u001b[0m_reader\u001b[0m \u001b[1;33m=\u001b[0m \u001b[0mparsers\u001b[0m\u001b[1;33m.\u001b[0m\u001b[0mTextReader\u001b[0m\u001b[1;33m(\u001b[0m\u001b[0msrc\u001b[0m\u001b[1;33m,\u001b[0m \u001b[1;33m**\u001b[0m\u001b[0mkwds\u001b[0m\u001b[1;33m)\u001b[0m\u001b[1;33m\u001b[0m\u001b[0m\n\u001b[0m\u001b[0;32m   1709\u001b[0m \u001b[1;33m\u001b[0m\u001b[0m\n\u001b[0;32m   1710\u001b[0m         \u001b[0mpassed_names\u001b[0m \u001b[1;33m=\u001b[0m \u001b[0mself\u001b[0m\u001b[1;33m.\u001b[0m\u001b[0mnames\u001b[0m \u001b[1;32mis\u001b[0m \u001b[1;32mNone\u001b[0m\u001b[1;33m\u001b[0m\u001b[0m\n",
      "\u001b[1;32mpandas\\_libs\\parsers.pyx\u001b[0m in \u001b[0;36mpandas._libs.parsers.TextReader.__cinit__\u001b[1;34m()\u001b[0m\n",
      "\u001b[1;32mpandas\\_libs\\parsers.pyx\u001b[0m in \u001b[0;36mpandas._libs.parsers.TextReader._setup_parser_source\u001b[1;34m()\u001b[0m\n",
      "\u001b[1;31mFileNotFoundError\u001b[0m: File b'../../stations.csv' does not exist"
     ]
    }
   ],
   "source": [
    "# Import stations and lines from excel sheets\n",
    "df1 = pd.read_csv(\"../../stations.csv\")\n",
    "df2 = pd.read_csv(\"../../lijnen.csv\")\n",
    "\n",
    "# Convert columns to lst type\n",
    "from ast import literal_eval\n",
    "df2.loc[:,'Route1'] = df2.loc[:,'Route1'].apply(lambda x: literal_eval(x))\n",
    "df2.loc[:,'Route2'] = df2.loc[:,'Route2'].apply(lambda x: literal_eval(x))\n",
    "df2.loc[:,'Duration'] = df2.loc[:,'Duration'].apply(lambda x: literal_eval(x))"
   ]
  },
  {
   "cell_type": "code",
   "execution_count": null,
   "metadata": {
    "scrolled": true
   },
   "outputs": [],
   "source": [
    "df1 = df1.drop([2, 3, 4, 5])\n",
    "df1"
   ]
  },
  {
   "cell_type": "code",
   "execution_count": null,
   "metadata": {},
   "outputs": [],
   "source": [
    "# Create dictionary for all transport lines\n",
    "lines = {}\n",
    "durations = []\n",
    "\n",
    "for index, row in df2.iterrows():\n",
    "    lines[row[\"Line\"]] = (row[\"Route1\"], row[\"Route2\"], row[\"Duration\"])\n",
    "    \n",
    "edges = []\n",
    "for k, v in lines.items():\n",
    "    for x in range(len(v[0])):\n",
    "        try:\n",
    "            edges.append((v[0][x], v[0][x + 1], k, v[2][x]))\n",
    "            edges.append((v[0][x + 1], v[0][x], k, v[2][x]))\n",
    "        except:\n",
    "            break"
   ]
  },
  {
   "cell_type": "markdown",
   "metadata": {},
   "source": [
    "### Create graph"
   ]
  },
  {
   "cell_type": "code",
   "execution_count": null,
   "metadata": {},
   "outputs": [],
   "source": [
    "# Create graph\n",
    "FG = nx.DiGraph()\n",
    "\n",
    "# Create all stations and nodes\n",
    "Node = type('Station', (core.Identifiable, core.Log, core.Locatable, core.HasResource, core.Station), {})\n",
    "nodes = []\n",
    "stations = []\n",
    "\n",
    "for index, row in df1.iterrows():\n",
    "    stations.append({\"env\": [],\n",
    "                     \"name\": row[\"HalteNaam\"],\n",
    "                     \"geometry\": shapely.geometry.Point(row[\"HalteLat\"], row[\"HalteLon\"]),\n",
    "                     \"capacity\": row[\"Capacity\"]}) \n",
    "\n",
    "for station in stations:\n",
    "    node = Node(**station)\n",
    "    nodes.append(node)\n",
    "\n",
    "# Create positions and add nodes to graph with right position\n",
    "positions = {}\n",
    "\n",
    "for node in nodes:\n",
    "    positions[node.name] = (node.geometry.y, node.geometry.x)\n",
    "    FG.add_node(node.name, geometry = node.geometry, object_type = node)\n",
    "\n",
    "# Create all edges\n",
    "for edge in edges:\n",
    "    FG.add_edge(edge[0], edge[1], line = edge[2], duration = edge[3])"
   ]
  },
  {
   "cell_type": "code",
   "execution_count": null,
   "metadata": {
    "scrolled": false
   },
   "outputs": [],
   "source": [
    "# Plot the network\n",
    "nx.draw(FG, positions, node_size=10)\n",
    "plt.show()"
   ]
  },
  {
   "cell_type": "code",
   "execution_count": null,
   "metadata": {},
   "outputs": [],
   "source": [
    "# Calculate transfers and durations\n",
    "def route_calculation(route, graph):\n",
    "    route_info = {\"lines\": [], \"duration\": 0, \"transfers\": 0, \"waiting\": 0, \"transferstations\": []}\n",
    "    \n",
    "    for i in range(len(route) - 1):\n",
    "        if route_info[\"lines\"] != []:\n",
    "            attr = FG.get_edge_data(route[i],route[i+1],default=0)\n",
    "            if line != attr['line']:\n",
    "                route_info[\"transfers\"] += 1\n",
    "                route_info[\"transferstations\"].append(route[i])\n",
    "                line = attr['line']\n",
    "                route_info[\"lines\"].append(line) \n",
    "        else:\n",
    "            attr = FG.get_edge_data(route[i],route[i+1],default=0)\n",
    "            line = attr['line']\n",
    "            route_info[\"lines\"].append(line) \n",
    "\n",
    "        route_info[\"duration\"] += attr['duration']\n",
    "        \n",
    "    route_info[\"waiting\"] = int(random.random() * 10)\n",
    "    route_info[\"duration\"] += (route_info[\"transfers\"] * 3)\n",
    "    \n",
    "    return route_info"
   ]
  },
  {
   "cell_type": "code",
   "execution_count": null,
   "metadata": {},
   "outputs": [],
   "source": [
    "def choice(routes, classname):\n",
    "    if classname == 0:\n",
    "        minimum = routes[0][0][\"duration\"]\n",
    "        index = 0\n",
    "        for i in range(1, len(routes)):\n",
    "            # Loop through all routes and save the route with the shortest trip duration\n",
    "            if routes[i][0][\"duration\"] < minimum:\n",
    "                minimum = routes[i][0][\"duration\"]\n",
    "                index = i\n",
    "\n",
    "            # If the duration is the same, save the route with the least waiting time\n",
    "            elif routes[i][0][\"duration\"] == minimum:\n",
    "                if routes[i][0][\"waiting\"] < routes[index][0][\"waiting\"]:\n",
    "                    index = i\n",
    "\n",
    "    elif classname == 1:\n",
    "        minimum = routes[0][0][\"waiting\"]\n",
    "        index = 0\n",
    "        for i in range(1, len(routes)):\n",
    "            # Loop through all routes and save the route with the least waiting time\n",
    "            if routes[i][0][\"waiting\"] < minimum:\n",
    "                minimum = routes[i][0][\"waiting\"]\n",
    "                index = i\n",
    "\n",
    "            # If waiting time is the same, save the route with the shortest duration\n",
    "            elif routes[i][0][\"waiting\"] == minimum:\n",
    "                if routes[i][0][\"duration\"] < routes[index][0][\"duration\"]:\n",
    "                    index = i\n",
    "\n",
    "    elif classname == 2:\n",
    "        minimum = routes[0][0][\"transfers\"]\n",
    "        index = 0\n",
    "        for i in range(1, len(routes)):\n",
    "            # Loop through all routes and save the route with the least transfers\n",
    "            if routes[i][0][\"transfers\"] < minimum:\n",
    "                minimum = routes[i][0][\"transfers\"]\n",
    "                index = i\n",
    "\n",
    "            # If the num of transfers is the same, save the route with the shortes duration\n",
    "            elif routes[i][0][\"transfers\"] == minimum:\n",
    "                if routes[i][0][\"duration\"] < routes[index][0][\"duration\"]:\n",
    "                    index = i\n",
    "                    \n",
    "    return routes[index][0], routes[index][1]"
   ]
  },
  {
   "cell_type": "markdown",
   "metadata": {},
   "source": [
    "### Create moving parts"
   ]
  },
  {
   "cell_type": "code",
   "execution_count": null,
   "metadata": {},
   "outputs": [],
   "source": [
    "def generate_passenger(origin, destination, classname, environment):\n",
    "    \"\"\" Generate a passenger \"\"\"\n",
    "    Passenger = type('Passenger', (core.Identifiable, core.Routeable, core.Log), {})\n",
    "    \n",
    "    # Name of the object\n",
    "    name = \"Passenger\"\n",
    "    \n",
    "    # Geometry of the origin\n",
    "    geometry = nx.get_node_attributes(environment.FG, \"object_type\")[origin].geometry\n",
    " \n",
    "    paths = nx.all_simple_paths(environment.FG, source = origin, target = destination)    \n",
    "    \n",
    "    routes = []\n",
    "    for path in paths:\n",
    "        routes.append(((route_calculation(path, FG)), path))\n",
    "\n",
    "    # Travel direction and route information\n",
    "    route_info, route = choice(routes, classname)    \n",
    "        \n",
    "    return Passenger(**{\"env\": environment, \n",
    "                        \"name\": name, \n",
    "                        \"route\": route,\n",
    "                        \"route_info\": route_info,\n",
    "                        \"transfers\": route_info[\"transfers\"],\n",
    "                        \"transferstations\": route_info[\"transferstations\"].copy(),\n",
    "                        \"duration\": route_info[\"duration\"],\n",
    "                        \"lines\": route_info[\"lines\"].copy(),\n",
    "                        \"class_id\": classname\n",
    "                        })"
   ]
  },
  {
   "cell_type": "code",
   "execution_count": null,
   "metadata": {},
   "outputs": [],
   "source": [
    "def generate_vehicle(line, environment, linename):\n",
    "    \"\"\" Generate a metro \"\"\"\n",
    "    Vehicle = type(linename, (core.Identifiable, core.Movable, core.HasContainer, core.HasResource, \n",
    "                           core.Routeable, core.Mover), {})\n",
    "    # Name of the object\n",
    "    name = linename\n",
    "\n",
    "    # Travel direction\n",
    "    route = line    \n",
    "\n",
    "    # Geometry of origin\n",
    "    geometry = nx.get_node_attributes(environment.FG, \"object_type\")[route[0]].geometry\n",
    "    \n",
    "    # Maximum passengers\n",
    "    capacity = 200\n",
    "    \n",
    "    return Vehicle(**{\"env\": environment, \n",
    "                    \"name\": name, \n",
    "                    \"route\": route, \n",
    "                    \"capacity\": capacity, \n",
    "                    \"geometry\": geometry\n",
    "                   })"
   ]
  },
  {
   "cell_type": "markdown",
   "metadata": {},
   "source": [
    "### Spawn the metro trains"
   ]
  },
  {
   "cell_type": "code",
   "execution_count": null,
   "metadata": {},
   "outputs": [],
   "source": [
    "def vehicle(env, start, frequency, name, x):\n",
    "    yield env.timeout(start * 60 * 60)\n",
    "    while True:\n",
    "        vehicle = generate_vehicle(lines[name][x], env, name)\n",
    "        env.vehicles.append(vehicle)\n",
    "        env.process(vehicle.move())\n",
    "        \n",
    "        # One vehicle every X minutes\n",
    "        yield env.timeout(frequency * 60)"
   ]
  },
  {
   "cell_type": "code",
   "execution_count": null,
   "metadata": {},
   "outputs": [],
   "source": [
    "def passengers(env, classname):\n",
    "    yield env.timeout(5.5 * 60 * 60)\n",
    "    while True:\n",
    "        origin, destination = random.sample(env.FG.nodes, 2)\n",
    "\n",
    "        passenger = generate_passenger(origin, destination, classname, env)\n",
    "        FG.nodes[origin][\"object_type\"].units.append(passenger)\n",
    "\n",
    "        passenger.log_entry(\"Waiting for {}\".format(passenger.lines[0]), env.now, 0, nx.get_node_attributes(env.FG, \"object_type\")[origin].geometry)\n",
    "        \n",
    "        env.passengers.append(passenger)\n",
    "\n",
    "        # Random arrivals of passengers with mean interarrival time of 30 seconds\n",
    "        yield env.timeout(random.random() * 60)"
   ]
  },
  {
   "cell_type": "markdown",
   "metadata": {},
   "source": [
    "### Run simulation"
   ]
  },
  {
   "cell_type": "code",
   "execution_count": null,
   "metadata": {},
   "outputs": [],
   "source": [
    "# Simulation start time\n",
    "simulation_start = datetime.datetime(2019, 1, 1)\n",
    "\n",
    "# Make simulation environment\n",
    "env = simpy.Environment(initial_time = time.mktime(simulation_start.timetuple()))\n",
    "env.FG = FG\n",
    "\n",
    "# For loggin\n",
    "env.vehicles = []\n",
    "env.passengers = []\n",
    "\n",
    "# Start the simulation\n",
    "env.process(vehicle(env, 5.5, 6, \"metro52\", 0))\n",
    "env.process(vehicle(env, 5.585, 6, \"metro52\", 1))\n",
    "env.process(vehicle(env, 6, 10, \"tram24\", 0))\n",
    "env.process(vehicle(env, 6, 10, \"tram24\", 1))\n",
    "env.process(passengers(env, 0))\n",
    "env.run(until = env.now + 1 * 24 * 60 * 60)"
   ]
  },
  {
   "cell_type": "markdown",
   "metadata": {},
   "source": [
    "### Check results"
   ]
  },
  {
   "cell_type": "code",
   "execution_count": null,
   "metadata": {
    "scrolled": true
   },
   "outputs": [],
   "source": [
    "pd.DataFrame.from_dict(env.vehicles[4].log)"
   ]
  },
  {
   "cell_type": "code",
   "execution_count": null,
   "metadata": {
    "scrolled": true
   },
   "outputs": [],
   "source": [
    "pd.DataFrame.from_dict(env.passengers[5].log)"
   ]
  },
  {
   "cell_type": "code",
   "execution_count": null,
   "metadata": {
    "scrolled": true
   },
   "outputs": [],
   "source": [
    "passengerdict = {}\n",
    "\n",
    "for i in range(len(env.passengers)):\n",
    "    try:\n",
    "        passengerdict[env.passengers[i].id] = {\"route\": env.passengers[i].route, \n",
    "                                        \"origin\": env.passengers[i].route[0], \n",
    "                                        \"destination\": env.passengers[i].route[-1], \n",
    "                                        \"transfers\": env.passengers[i].route_info['transfers'], \n",
    "                                        \"lines\": env.passengers[i].route_info['lines'], \n",
    "                                        \"transferstations\": env.passengers[i].route_info['transferstations'], \n",
    "                                        \"creation\": env.passengers[i].log[\"Timestamp\"][0].strftime ('%H:%M:%S'),\n",
    "                                        \"departure\": env.passengers[i].log[\"Timestamp\"][2].strftime ('%H:%M:%S'),\n",
    "                                        \"arrival\": env.passengers[i].log[\"Timestamp\"][3].strftime ('%H:%M:%S'), \n",
    "                                        \"date\": env.passengers[i].log[\"Timestamp\"][0].date(),\n",
    "                                        \"class_id\": env.passengers[i].class_id, \n",
    "                                        \"waiting_time\": 0}\n",
    "    except:\n",
    "        pass\n",
    "    \n",
    "passengerdf = pd.DataFrame(passengerdict).T\n",
    "passengerdf.to_csv(\"../../passengers.csv\", index=True)"
   ]
  },
  {
   "cell_type": "code",
   "execution_count": null,
   "metadata": {
    "scrolled": true
   },
   "outputs": [],
   "source": [
    "passengerdf"
   ]
  },
  {
   "cell_type": "code",
   "execution_count": null,
   "metadata": {},
   "outputs": [],
   "source": [
    "vehicledict = {}\n",
    "\n",
    "for i in range(len(env.vehicles)):\n",
    "    try:\n",
    "        vehicledict[env.vehicles[i].id] = {\"route\": env.vehicles[i].route, \n",
    "                                        \"line\": env.vehicles[i].name, \n",
    "                                        \"departure\": env.vehicles[i].log[\"Timestamp\"][0].strftime ('%H:%M:%S'),\n",
    "                                        \"arrival\": env.vehicles[i].log[\"Timestamp\"][-1].strftime ('%H:%M:%S'), \n",
    "                                        \"date\": env.vehicles[i].log[\"Timestamp\"][0].date()}\n",
    "    except:\n",
    "        pass\n",
    "    \n",
    "vehicledf = pd.DataFrame(vehicledict).T\n",
    "vehicledf.to_csv(\"../../vehicles.csv\", index=True)"
   ]
  },
  {
   "cell_type": "code",
   "execution_count": null,
   "metadata": {
    "scrolled": true
   },
   "outputs": [],
   "source": [
    "vehicledf"
   ]
  },
  {
   "cell_type": "code",
   "execution_count": null,
   "metadata": {},
   "outputs": [],
   "source": []
  }
 ],
 "metadata": {
  "kernelspec": {
   "display_name": "Python 3",
   "language": "python",
   "name": "python3"
  },
  "language_info": {
   "codemirror_mode": {
    "name": "ipython",
    "version": 3
   },
   "file_extension": ".py",
   "mimetype": "text/x-python",
   "name": "python",
   "nbconvert_exporter": "python",
   "pygments_lexer": "ipython3",
   "version": "3.7.0"
  }
 },
 "nbformat": 4,
 "nbformat_minor": 2
}
